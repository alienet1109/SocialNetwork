{
 "cells": [
  {
   "cell_type": "code",
   "execution_count": 2,
   "metadata": {},
   "outputs": [],
   "source": [
    "import os\n",
    "import csv\n",
    "data_dir = \"E:/SocialNetwork/Netease_music_social/\""
   ]
  },
  {
   "cell_type": "markdown",
   "metadata": {},
   "source": [
    "### Music Info"
   ]
  },
  {
   "cell_type": "code",
   "execution_count": null,
   "metadata": {},
   "outputs": [],
   "source": [
    "music_info_dict = dict()\n",
    "def create_one_music_dict(item: dict):\n",
    "    dic = dict()\n",
    "    for key in item:\n",
    "        if key in ['num']: continue\n",
    "        elif key in ['comment_users','playlist']:\n",
    "            dic[key] = item[key].split('-') if item[key] else []\n",
    "        else:\n",
    "            dic[key] = item[key]\n",
    "    return dic\n",
    "with open(os.path.join(data_dir,'music_data.csv'), \"r\", encoding='utf8', newline='') as inCsv:\n",
    "    reader = csv.DictReader(inCsv)\n",
    "    music_info = list(reader)\n",
    "    for item in music_info:\n",
    "        dic = create_one_music_dict(item)\n",
    "        music_info_dict[item['id']] = dic"
   ]
  },
  {
   "cell_type": "markdown",
   "metadata": {},
   "source": [
    "### User Info"
   ]
  },
  {
   "cell_type": "code",
   "execution_count": null,
   "metadata": {},
   "outputs": [],
   "source": [
    "user_info_dict = dict()\n",
    "with open(os.path.join(data_dir,'userInfo.txt'), \"r\", encoding='utf8', newline='') as inTxt:\n",
    "    user_info = inTxt.readlines()\n",
    "    for item in user_info:\n",
    "        item = item.split('/')\n",
    "        dic = {\n",
    "        'id': item[0],\n",
    "        'name':item[1], \n",
    "        'gender':item[2], \n",
    "        'playlist_num': item[-3], \n",
    "        'music_num': item[-2], 'intro':item[-1][1:-3].replace(',', '，'),\n",
    "        'comment_musics':[], \n",
    "        'following_user': [], #该用户关注的用户id列表\n",
    "        'followed_user':[]    #该用户的粉丝id列表\n",
    "        }\n",
    "        user_info_dict[item[0]] = dic\n",
    "for id,dic in music_info_dict.items():\n",
    "    for user_id in dic['comment_users']:\n",
    "        if user_id in user_info_dict.keys():\n",
    "            if id not in user_info_dict[user_id]['comment_musics']:\n",
    "                user_info_dict[user_id]['comment_musics'].append(id)\n",
    "with open(os.path.join(data_dir,'user_follow.csv'), \"r\", encoding='utf8', newline='') as inCsv:\n",
    "    reader = csv.DictReader(inCsv)\n",
    "    user_following = list(reader)\n",
    "    for item in user_following:\n",
    "        id = item['user_id']\n",
    "        if id not in user_info_dict.keys() or item['follow_id'] not in user_info_dict.keys(): continue\n",
    "        user_info_dict[id]['following_user'].append(item['follow_id'])\n",
    "with open(os.path.join(data_dir,'user_followed.csv'), \"r\", encoding='utf8', newline='') as inCsv:\n",
    "    reader = csv.DictReader(inCsv)\n",
    "    user_followed = list(reader)\n",
    "    for item in user_followed:\n",
    "        id = item['user_id'][0:-2]\n",
    "        followed_id = item['followed_id'][0:-2]\n",
    "        if id not in user_info_dict.keys() or followed_id not in user_info_dict.keys(): continue\n",
    "        user_info_dict[id]['followed_user'].append(followed_id)\n",
    "for id in user_info_dict.keys():\n",
    "    user_info_dict[id]['following_num'] = len(user_info_dict[id]['following_user'])\n",
    "    user_info_dict[id]['followed_num'] = len(user_info_dict[id]['followed_user'])\n",
    "    user_info_dict[id]['comment_num'] = len(user_info_dict[id]['comment_musics'])"
   ]
  },
  {
   "cell_type": "code",
   "execution_count": null,
   "metadata": {},
   "outputs": [],
   "source": [
    "# 获取的用户信息写入文件\n",
    "with open(os.path.join(data_dir,'user_info.csv'), \"w\", encoding='utf8', newline='') as outCsv:\n",
    "    fileheader = user_info_dict['59055238'].keys()\n",
    "    outDictWriter = csv.DictWriter(outCsv, fileheader)\n",
    "    outDictWriter.writeheader()\n",
    "    outDictWriter.writerows(user_info_dict.values())\n",
    "    outCsv.close()"
   ]
  },
  {
   "cell_type": "code",
   "execution_count": 5,
   "metadata": {},
   "outputs": [],
   "source": [
    "# 从文件读取用户信息\n",
    "user_info_dict = dict()\n",
    "with open(os.path.join(data_dir,'user_info.csv'), \"r\", encoding='utf8', newline='') as inCsv:\n",
    "    reader = csv.DictReader(inCsv)\n",
    "    user_info = list(reader)\n",
    "    for item in user_info:\n",
    "        user_info_dict[item['id']] = item\n"
   ]
  },
  {
   "cell_type": "code",
   "execution_count": 6,
   "metadata": {},
   "outputs": [
    {
     "name": "stdout",
     "output_type": "stream",
     "text": [
      "59055238 {'id': '59055238', 'name': '最近喜听李宗盛', 'gender': '1', 'playlist_num': '6', 'music_num': '7356', 'intro': '', 'comment_musics': \"['28442648']\", 'following_user': \"['1']\", 'followed_user': \"['426333512', '247258663', '137049934', '68228267', '52652430']\", 'following_num': '1', 'followed_num': '5', 'comment_num': '1'}\n"
     ]
    }
   ],
   "source": [
    "# 查看用户信息格式\n",
    "for key,value in user_info_dict.items():\n",
    "    print(key, value)\n",
    "    break"
   ]
  },
  {
   "cell_type": "markdown",
   "metadata": {},
   "source": [
    "### Comment Info"
   ]
  },
  {
   "cell_type": "code",
   "execution_count": null,
   "metadata": {},
   "outputs": [],
   "source": [
    "comment_info_dict = dict()\n",
    "with open(os.path.join(data_dir,'music_comments.csv'), \"r\", encoding='utf8', newline='') as inCsv:\n",
    "    reader = csv.DictReader(inCsv)\n",
    "    comments = list(reader)\n",
    "    for item in comments:\n",
    "        if item['music_id'] in music_info_dict.keys() and item['user_id'] in user_info_dict.keys():\n",
    "            comment_info_dict[(item['music_id'],item['user_id'])] = item\n",
    "            \n",
    "for key,value in comment_info_dict.items():\n",
    "    print(key, value)\n",
    "    break"
   ]
  }
 ],
 "metadata": {
  "kernelspec": {
   "display_name": "Python 3.8.7 64-bit",
   "language": "python",
   "name": "python3"
  },
  "language_info": {
   "codemirror_mode": {
    "name": "ipython",
    "version": 3
   },
   "file_extension": ".py",
   "mimetype": "text/x-python",
   "name": "python",
   "nbconvert_exporter": "python",
   "pygments_lexer": "ipython3",
   "version": "3.8.7"
  },
  "orig_nbformat": 4,
  "vscode": {
   "interpreter": {
    "hash": "0f04483ccb12acca770c4b218e351e955ea47fddaf0334c9b718feb865e79400"
   }
  }
 },
 "nbformat": 4,
 "nbformat_minor": 2
}
